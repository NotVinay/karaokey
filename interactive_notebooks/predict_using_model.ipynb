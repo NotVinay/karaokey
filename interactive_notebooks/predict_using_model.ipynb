{
 "cells": [
  {
   "cell_type": "heading",
   "metadata": {},
   "level": 2,
   "source": [
    "Interactive testing or prediction of the trained model"
   ]
  },
  {
   "cell_type": "heading",
   "metadata": {},
   "level": 2,
   "source": [
    "Imports"
   ]
  },
  {
   "cell_type": "code",
   "execution_count": null,
   "metadata": {
    "collapsed": true
   },
   "outputs": [],
   "source": [
    "from config.model_config import DATASET_CONFIG, PREPROCESS_CONFIG\n",
    "from application.controllers.preprocess_tools import STFT, Scaler\n",
    "import application.controllers.utility as sp\n",
    "from preprocess.utility import read, to_mono\n",
    "import numpy as np\n",
    "import os\n",
    "import torch\n",
    "import norbert\n",
    "from train.model import LSTM_Model"
   ]
  },
  {
   "cell_type": "heading",
   "metadata": {},
   "level": 2,
   "source": [
    "Step 1: Preprocessing the music file"
   ]
  },
  {
   "cell_type": "heading",
   "metadata": {},
   "level": 3,
   "source": []
  },
  {
   "cell_type": "code",
   "execution_count": null,
   "metadata": {},
   "outputs": [],
   "source": [
    "# transformation object\n",
    "transform = STFT(sr=DATASET_CONFIG.SR,\n",
    "                 n_per_seg=DATASET_CONFIG.N_PER_SEG,\n",
    "                 n_overlap=DATASET_CONFIG.N_OVERLAP)\n",
    "\n",
    "# Scaler object\n",
    "scaler = Scaler()"
   ]
  },
  {
   "cell_type": "heading",
   "metadata": {},
   "level": 3,
   "source": [
    "Loading music file"
   ]
  },
  {
   "cell_type": "code",
   "execution_count": null,
   "metadata": {},
   "outputs": [],
   "source": [
    "# time series data of mixture\n",
    "data, sr = read(track_dir, stereo=True)\n",
    "print(\"Mixture file time series data shape: \", data.shape)\n",
    "\n",
    "data_mix = to_mono(data)\n",
    "print(\"Shape of mono mixture time series data: \", data_mix.shape)"
   ]
  },
  {
   "cell_type": "heading",
   "metadata": {},
   "level": 3,
   "source": [
    "Short time fourier transformation of time series data"
   ]
  },
  {
   "cell_type": "code",
   "execution_count": null,
   "metadata": {},
   "outputs": [],
   "source": [
    "x_tf = transform.stft(data_mix.T)\n",
    "# get spectrogram of STFT i.e., |Xi|\n",
    "x_mix_stft = np.abs(x_tf)\n",
    "print(x_mix_stft.shape)"
   ]
  },
  {
   "cell_type": "heading",
   "metadata": {},
   "level": 3,
   "source": [
    "Scaling transformed data into"
   ]
  },
  {
   "cell_type": "code",
   "execution_count": null,
   "metadata": {},
   "outputs": [],
   "source": [
    "# scaling the values to 0 to 1\n",
    "X_scaled = scaler.scale(x_mix_stft)\n",
    "print(\"Scaled data shape :\", X_scaled.shape)\n",
    "print(\"Scaled data min :\", np.max(X_scaled))\n",
    "print(\"Scaled data max :\", np.max(X_scaled))\n",
    "print(\"Scaled data mean :\", np.mean(X_scaled))"
   ]
  },
  {
   "cell_type": "code",
   "execution_count": null,
   "metadata": {},
   "outputs": [],
   "source": []
  },
  {
   "cell_type": "code",
   "execution_count": null,
   "metadata": {},
   "outputs": [],
   "source": []
  },
  {
   "cell_type": "code",
   "execution_count": null,
   "metadata": {},
   "outputs": [],
   "source": []
  },
  {
   "cell_type": "code",
   "execution_count": null,
   "metadata": {},
   "outputs": [],
   "source": []
  }
 ],
 "metadata": {
  "kernelspec": {
   "display_name": "Python 2",
   "language": "python",
   "name": "python2"
  },
  "language_info": {
   "codemirror_mode": {
    "name": "ipython",
    "version": 2
   },
   "file_extension": ".py",
   "mimetype": "text/x-python",
   "name": "python",
   "nbconvert_exporter": "python",
   "pygments_lexer": "ipython2",
   "version": "2.7.6"
  }
 },
 "nbformat": 4,
 "nbformat_minor": 0
}
