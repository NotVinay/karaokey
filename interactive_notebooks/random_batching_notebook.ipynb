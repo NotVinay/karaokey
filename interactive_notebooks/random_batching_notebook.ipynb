{
 "cells": [
  {
   "cell_type": "code",
   "execution_count": null,
   "metadata": {
    "collapsed": true
   },
   "outputs": [],
   "source": [
    "from dataset import Dataset\n",
    "import numpy as np\n",
    "from sklearn.preprocessing import StandardScaler"
   ]
  },
  {
   "cell_type": "code",
   "execution_count": null,
   "metadata": {},
   "outputs": [],
   "source": [
    "# random batch function\n",
    "def create_batches(x, y, nb_frames):\n",
    "    \"\"\"\n",
    "    Create samples of n frames from the data\n",
    "    Parameters\n",
    "    ----------\n",
    "    x : input data\n",
    "    y : label data\n",
    "    n : sample size\n",
    "\n",
    "    Returns\n",
    "    -------\n",
    "    ndarray\n",
    "\n",
    "    \"\"\"\n",
    "    x_batch = []\n",
    "    y_batch = []\n",
    "    for i in range(0, len(x), nb_frames):\n",
    "        if (i + nb_frames) > len(x):\n",
    "            x_batch.append(x[-nb_frames:])\n",
    "            y_batch.append(x[-nb_frames:])\n",
    "        else:\n",
    "            x_batch.append(x[i:i + nb_frames])\n",
    "            y_batch.append(y[i:i + nb_frames])\n",
    "    return np.array(x_batch), np.array(y_batch)"
   ]
  },
  {
   "cell_type": "code",
   "execution_count": null,
   "metadata": {},
   "outputs": [],
   "source": [
    "X = []\n",
    "Y = []\n",
    "\n",
    "for i, val in enumerate(mixtures):\n",
    "    print(i)\n",
    "    x_b, y_b = create_batches(mixtures[i], labels[i], nb_frames=128)\n",
    "    for x_s in x_b:\n",
    "        X.append(x_s)\n",
    "    for y_s in y_b:\n",
    "        Y.append(y_s)\n",
    "\n",
    "X=np.array(X)\n",
    "Y=np.array(Y)\n",
    "np.save(r\"C:\\Users\\w1572032.INTRANET.001\\Desktop\\sampled_dataset_x.npy\", X)\n",
    "np.save(r\"C:\\Users\\w1572032.INTRANET.001\\Desktop\\sampled_dataset_y.npy\", Y)\n",
    "print(X.shape)\n",
    "print(Y.shape)"
   ]
  }
 ],
 "metadata": {
  "kernelspec": {
   "display_name": "Python 2",
   "language": "python",
   "name": "python2"
  },
  "language_info": {
   "codemirror_mode": {
    "name": "ipython",
    "version": 2
   },
   "file_extension": ".py",
   "mimetype": "text/x-python",
   "name": "python",
   "nbconvert_exporter": "python",
   "pygments_lexer": "ipython2",
   "version": "2.7.6"
  }
 },
 "nbformat": 4,
 "nbformat_minor": 0
}
